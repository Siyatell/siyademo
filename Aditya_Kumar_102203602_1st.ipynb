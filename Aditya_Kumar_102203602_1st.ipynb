{
  "nbformat": 4,
  "nbformat_minor": 0,
  "metadata": {
    "colab": {
      "provenance": [],
      "authorship_tag": "ABX9TyOLnHVdnjOHl6Csf/NFOth0",
      "include_colab_link": true
    },
    "kernelspec": {
      "name": "python3",
      "display_name": "Python 3"
    },
    "language_info": {
      "name": "python"
    }
  },
  "cells": [
    {
      "cell_type": "markdown",
      "metadata": {
        "id": "view-in-github",
        "colab_type": "text"
      },
      "source": [
        "<a href=\"https://colab.research.google.com/github/Siyatell/siyademo/blob/main/Aditya_Kumar_102203602_1st.ipynb\" target=\"_parent\"><img src=\"https://colab.research.google.com/assets/colab-badge.svg\" alt=\"Open In Colab\"/></a>"
      ]
    },
    {
      "cell_type": "code",
      "execution_count": null,
      "metadata": {
        "id": "x-UZ2vGNNEVh",
        "colab": {
          "base_uri": "https://localhost:8080/"
        },
        "outputId": "a9e399fa-2ba7-44e4-8636-836fafc11174"
      },
      "outputs": [
        {
          "output_type": "stream",
          "name": "stdout",
          "text": [
            "Final array [5 4 3 2 1]\n"
          ]
        }
      ],
      "source": [
        "import numpy as np\n",
        "\n",
        "\n",
        "arr=np.array([1,2,3,4,5])\n",
        "res = np.flip(arr)\n",
        "print(\"Final array\", str(res))\n"
      ]
    },
    {
      "cell_type": "code",
      "source": [
        "import numpy as np\n",
        "\n",
        "array1=np.array([[1,2,3],[2,4,5],[1,2,3]])\n",
        "flat = array1.flatten()\n",
        "print(flat)"
      ],
      "metadata": {
        "colab": {
          "base_uri": "https://localhost:8080/"
        },
        "id": "YpAulK5JOS9m",
        "outputId": "2ebacc18-b8a5-4d00-922c-96e8142838d3"
      },
      "execution_count": null,
      "outputs": [
        {
          "output_type": "stream",
          "name": "stdout",
          "text": [
            "[1 2 3 2 4 5 1 2 3]\n"
          ]
        }
      ]
    },
    {
      "cell_type": "code",
      "source": [
        "import numpy as np\n",
        "\n",
        "arr1=np.array([[1,2],[3,4]])\n",
        "arr2=np.array([[1,2],[3,4]])\n",
        "comparison = arr1 == arr2\n",
        "equal_arrays = comparison.all()\n",
        "print(equal_arrays)"
      ],
      "metadata": {
        "colab": {
          "base_uri": "https://localhost:8080/"
        },
        "id": "GhhlOEFiZNX7",
        "outputId": "d976f308-434f-46e4-d003-a31676506210"
      },
      "execution_count": null,
      "outputs": [
        {
          "output_type": "stream",
          "name": "stdout",
          "text": [
            "True\n"
          ]
        }
      ]
    },
    {
      "cell_type": "code",
      "source": [
        "import numpy as np\n",
        "\n",
        "x=np.array([1,2,3,4,5,1,2,1,1,1])\n",
        "print(\"Most frequent value in above array\")\n",
        "x_count = np.bincount(x)\n",
        "x_maxf=np.argmax(x_count)\n",
        "x_indices=np.where(x==x_maxf)[0]\n",
        "print(x_maxf, x_indices)\n",
        "\n",
        "y=np.array([1,1,1,2,3,4,2,4,3,3])\n",
        "print(\"Most frequent value in above array\")\n",
        "y_count = np.bincount(y)\n",
        "y_maxf=np.argmax(y_count)\n",
        "y_indices=np.where(y==y_maxf)[0]\n",
        "print(y_maxf, y_indices)"
      ],
      "metadata": {
        "colab": {
          "base_uri": "https://localhost:8080/"
        },
        "id": "Utz271httenZ",
        "outputId": "59ddc1e0-fbee-430e-ae8f-414f85c19464"
      },
      "execution_count": 2,
      "outputs": [
        {
          "output_type": "stream",
          "name": "stdout",
          "text": [
            "Most frequent value in above array\n",
            "1 [0 5 7 8 9]\n",
            "Most frequent value in above array\n",
            "1 [0 1 2]\n"
          ]
        }
      ]
    },
    {
      "cell_type": "code",
      "source": [
        "import numpy as np\n",
        "\n",
        "gfg=np.matrix('[4,1,9;12 3 1; 4,5,6]')\n",
        "sum = gfg.sum()\n",
        "print(sum)\n",
        "\n",
        "print(\"Sum of each column:\")\n",
        "print(np.sum(gfg, axis=0))\n",
        "\n",
        "print(\"Sum of each row:\")\n",
        "print(np.sum(gfg, axis=1))"
      ],
      "metadata": {
        "colab": {
          "base_uri": "https://localhost:8080/"
        },
        "id": "tKC2AIt0twGn",
        "outputId": "7bbb5bd3-41f1-4d34-ca51-b489ec50d25c"
      },
      "execution_count": 3,
      "outputs": [
        {
          "output_type": "stream",
          "name": "stdout",
          "text": [
            "45\n",
            "Sum of each column:\n",
            "[[20  9 16]]\n",
            "Sum of each row:\n",
            "[[14]\n",
            " [16]\n",
            " [15]]\n"
          ]
        }
      ]
    },
    {
      "cell_type": "code",
      "source": [
        "import numpy as np\n",
        "\n",
        "n_array=np.array([[55,25,15],[30,44,2],[11,45,77]])\n",
        "trace = np.trace(n_array)\n",
        "print(\"Sum of Diagonal elements=\")\n",
        "print(trace)\n",
        "\n",
        "evalue, evect = np.linalg.eig(n_array)\n",
        "print(\"Eigen Values=\")\n",
        "print(evalue)\n",
        "print(\"\")\n",
        "print(\"Eigen Vectors=\")\n",
        "print(evect)\n",
        "\n",
        "inv = np.linalg.inv(n_array)\n",
        "print(\"Inverse of Matrix=\")\n",
        "print(inv)\n",
        "\n",
        "deter=np.linalg.det(n_array)\n",
        "print(\"Determinant=\")\n",
        "print(deter)"
      ],
      "metadata": {
        "colab": {
          "base_uri": "https://localhost:8080/"
        },
        "id": "1bVpb9oxt19t",
        "outputId": "1725e66d-858c-4762-fb4a-66762a5d852a"
      },
      "execution_count": 4,
      "outputs": [
        {
          "output_type": "stream",
          "name": "stdout",
          "text": [
            "Sum of Diagonal elements=\n",
            "176\n",
            "Eigen Values=\n",
            "[98.16835147 28.097044   49.73460452]\n",
            "\n",
            "Eigen Vectors=\n",
            "[[ 0.4574917   0.34637121 -0.15017693]\n",
            " [ 0.28447814 -0.72784061 -0.4852124 ]\n",
            " [ 0.84248058  0.59184038  0.8614034 ]]\n",
            "Inverse of Matrix=\n",
            "[[ 0.02404141 -0.00911212 -0.00444671]\n",
            " [-0.01667882  0.02966905  0.0024785 ]\n",
            " [ 0.00631287 -0.01603732  0.01217379]]\n",
            "Determinant=\n",
            "137180.0000000001\n"
          ]
        }
      ]
    },
    {
      "cell_type": "code",
      "source": [
        "import numpy as np\n",
        "\n",
        "p = [[1, 2], [2, 3]]\n",
        "q = [[4, 5], [6, 7]]\n",
        "\n",
        "result = np.dot(p, q)\n",
        "print(\"The matrix multiplication is :\")\n",
        "print(result)\n",
        "\n",
        "covar=np.cov(p,q)\n",
        "print(\"\\nCovariance matrix of the two arrays:\\n\", covar)"
      ],
      "metadata": {
        "colab": {
          "base_uri": "https://localhost:8080/"
        },
        "id": "kvhOncuSt9Kx",
        "outputId": "bf28d0e0-93bf-4cf8-a28f-1cfa527b345a"
      },
      "execution_count": 5,
      "outputs": [
        {
          "output_type": "stream",
          "name": "stdout",
          "text": [
            "The matrix multiplication is :\n",
            "[[16 19]\n",
            " [26 31]]\n",
            "\n",
            "Covariance matrix of the two arrays:\n",
            " [[0.5 0.5 0.5 0.5]\n",
            " [0.5 0.5 0.5 0.5]\n",
            " [0.5 0.5 0.5 0.5]\n",
            " [0.5 0.5 0.5 0.5]]\n"
          ]
        }
      ]
    },
    {
      "cell_type": "code",
      "source": [
        "import numpy as np\n",
        "\n",
        "x = np.array([[2, 3, 4], [3, 2, 9]])\n",
        "y = np.array([[1, 5, 0], [5, 10, 3]])\n",
        "\n",
        "print(\"\\nInner product of matrices x and y =\")\n",
        "print(np.inner(x, y))\n",
        "print(\"\\nOuter product of vectors a and b =\")\n",
        "print(np.outer(x, y))\n",
        "print(\"\\nCross product of matrices x and y =\")\n",
        "print(np.cross(x, y))"
      ],
      "metadata": {
        "colab": {
          "base_uri": "https://localhost:8080/"
        },
        "id": "S6rOdWDsuJUn",
        "outputId": "0563225d-7015-4fc5-8403-000de5f88d52"
      },
      "execution_count": 6,
      "outputs": [
        {
          "output_type": "stream",
          "name": "stdout",
          "text": [
            "\n",
            "Inner product of matrices x and y =\n",
            "[[17 52]\n",
            " [13 62]]\n",
            "\n",
            "Outer product of vectors a and b =\n",
            "[[ 2 10  0 10 20  6]\n",
            " [ 3 15  0 15 30  9]\n",
            " [ 4 20  0 20 40 12]\n",
            " [ 3 15  0 15 30  9]\n",
            " [ 2 10  0 10 20  6]\n",
            " [ 9 45  0 45 90 27]]\n",
            "\n",
            "Cross product of matrices x and y =\n",
            "[[-20   4   7]\n",
            " [-84  36  20]]\n"
          ]
        }
      ]
    },
    {
      "cell_type": "code",
      "source": [
        "import numpy as np\n",
        "\n",
        "array = np.array([[1, -2, 3],[-4, 5, -6]])\n",
        "\n",
        "abs_values = np.abs(array)\n",
        "print(\"Element-wise absolute values:\\n\", abs_values)"
      ],
      "metadata": {
        "colab": {
          "base_uri": "https://localhost:8080/"
        },
        "id": "O1E_Y-CCuSx7",
        "outputId": "f90d36c4-4779-464c-c9f7-16ccbe9726e1"
      },
      "execution_count": 7,
      "outputs": [
        {
          "output_type": "stream",
          "name": "stdout",
          "text": [
            "Element-wise absolute values:\n",
            " [[1 2 3]\n",
            " [4 5 6]]\n"
          ]
        }
      ]
    },
    {
      "cell_type": "code",
      "source": [
        "import numpy as np\n",
        "\n",
        "percentiles_flattened = np.percentile(array, [25, 50, 75])\n",
        "\n",
        "percentiles_columns = np.percentile(array, [25, 50, 75], axis=0)\n",
        "\n",
        "percentiles_rows = np.percentile(array, [25, 50, 75], axis=1)\n",
        "\n",
        "print(\"Flattened array percentiles:\")\n",
        "print(f\"25th: {percentiles_flattened[0]}\")\n",
        "print(f\"50th (Median): {percentiles_flattened[1]}\")\n",
        "print(f\"75th: {percentiles_flattened[2]}\\n\")\n",
        "\n",
        "print(\"Column-wise percentiles:\")\n",
        "print(f\"25th: {percentiles_columns[0]}\")\n",
        "print(f\"50th (Median): {percentiles_columns[1]}\")\n",
        "print(f\"75th: {percentiles_columns[2]}\\n\")\n",
        "\n",
        "print(\"Row-wise percentiles:\")\n",
        "print(f\"25th: {percentiles_rows[0]}\")\n",
        "print(f\"50th (Median): {percentiles_rows[1]}\")\n",
        "print(f\"75th: {percentiles_rows[2]}\")"
      ],
      "metadata": {
        "colab": {
          "base_uri": "https://localhost:8080/"
        },
        "id": "BL9yjDpXuaxl",
        "outputId": "00ecf31d-8bce-4325-f749-6e532bb230aa"
      },
      "execution_count": 8,
      "outputs": [
        {
          "output_type": "stream",
          "name": "stdout",
          "text": [
            "Flattened array percentiles:\n",
            "25th: -3.5\n",
            "50th (Median): -0.5\n",
            "75th: 2.5\n",
            "\n",
            "Column-wise percentiles:\n",
            "25th: [-2.75 -0.25 -3.75]\n",
            "50th (Median): [-1.5  1.5 -1.5]\n",
            "75th: [-0.25  3.25  0.75]\n",
            "\n",
            "Row-wise percentiles:\n",
            "25th: [-0.5 -5. ]\n",
            "50th (Median): [ 1. -4.]\n",
            "75th: [2.  0.5]\n"
          ]
        }
      ]
    },
    {
      "cell_type": "code",
      "source": [
        "import numpy as np\n",
        "\n",
        "# Flattened array statistics\n",
        "flattened_array = array.flatten()\n",
        "mean_flattened = np.mean(flattened_array)\n",
        "median_flattened = np.median(flattened_array)\n",
        "std_flattened = np.std(flattened_array)\n",
        "\n",
        "# Column-wise statistics\n",
        "mean_columns = np.mean(array, axis=0)\n",
        "median_columns = np.median(array, axis=0)\n",
        "std_columns = np.std(array, axis=0)\n",
        "\n",
        "# Row-wise statistics\n",
        "mean_rows = np.mean(array, axis=1)\n",
        "median_rows = np.median(array, axis=1)\n",
        "std_rows = np.std(array, axis=1)\n",
        "\n",
        "print(\"Flattened array statistics:\")\n",
        "print(f\"Mean: {mean_flattened}\")\n",
        "print(f\"Median: {median_flattened}\")\n",
        "print(f\"Standard Deviation: {std_flattened}\\n\")\n",
        "\n",
        "print(\"Column-wise statistics:\")\n",
        "print(f\"Mean: {mean_columns}\")\n",
        "print(f\"Median: {median_columns}\")\n",
        "print(f\"Standard Deviation: {std_columns}\\n\")\n",
        "print(\"Row-wise statistics:\")\n",
        "print(f\"Mean: {mean_rows}\")\n",
        "print(f\"Median: {median_rows}\")\n",
        "print(f\"Standard Deviation: {std_rows}\")"
      ],
      "metadata": {
        "colab": {
          "base_uri": "https://localhost:8080/"
        },
        "id": "cbQsrufRuxp2",
        "outputId": "4ca1222a-3ef3-46b1-d941-dc908c9afbb9"
      },
      "execution_count": 9,
      "outputs": [
        {
          "output_type": "stream",
          "name": "stdout",
          "text": [
            "Flattened array statistics:\n",
            "Mean: -0.5\n",
            "Median: -0.5\n",
            "Standard Deviation: 3.8622100754188224\n",
            "\n",
            "Column-wise statistics:\n",
            "Mean: [-1.5  1.5 -1.5]\n",
            "Median: [-1.5  1.5 -1.5]\n",
            "Standard Deviation: [2.5 3.5 4.5]\n",
            "\n",
            "Row-wise statistics:\n",
            "Mean: [ 0.66666667 -1.66666667]\n",
            "Median: [ 1. -4.]\n",
            "Standard Deviation: [2.05480467 4.78423336]\n"
          ]
        }
      ]
    },
    {
      "cell_type": "code",
      "source": [
        "import numpy as np\n",
        "\n",
        "a = np.array([-1.8, -1.6, -0.5, 0.5,1.6, 1.8, 3.0])\n",
        "floor = np.floor(a)\n",
        "ceiling = np.ceil(a)\n",
        "truncated = np.trunc(a)\n",
        "rounded = np.round(a)\n",
        "print(\"Floor values:\", floor)\n",
        "print(\"Ceiling values:\", ceiling)\n",
        "print(\"Truncated values:\", truncated)\n",
        "print(\"Rounded values:\", rounded)"
      ],
      "metadata": {
        "colab": {
          "base_uri": "https://localhost:8080/"
        },
        "id": "34OKW4i101md",
        "outputId": "083428c9-d9cc-4aa3-a554-7219ea757f4a"
      },
      "execution_count": 10,
      "outputs": [
        {
          "output_type": "stream",
          "name": "stdout",
          "text": [
            "Floor values: [-2. -2. -1.  0.  1.  1.  3.]\n",
            "Ceiling values: [-1. -1. -0.  1.  2.  2.  3.]\n",
            "Truncated values: [-1. -1. -0.  0.  1.  1.  3.]\n",
            "Rounded values: [-2. -2. -0.  0.  2.  2.  3.]\n"
          ]
        }
      ]
    }
  ]
}